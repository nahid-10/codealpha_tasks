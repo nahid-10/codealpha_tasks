{
 "cells": [
  {
   "cell_type": "code",
   "execution_count": 1,
   "id": "73da0571",
   "metadata": {
    "ExecuteTime": {
     "end_time": "2025-02-14T16:59:22.127689Z",
     "start_time": "2025-02-14T16:59:20.501672Z"
    }
   },
   "outputs": [],
   "source": [
    "import numpy as np\n",
    "import pandas as pd\n",
    "import matplotlib.pyplot as plt\n",
    "import seaborn as sns\n",
    "import warnings\n",
    "warnings.filterwarnings('ignore')"
   ]
  },
  {
   "cell_type": "code",
   "execution_count": 2,
   "id": "870ba840",
   "metadata": {
    "ExecuteTime": {
     "end_time": "2025-02-14T16:59:23.034618Z",
     "start_time": "2025-02-14T16:59:22.130820Z"
    }
   },
   "outputs": [
    {
     "ename": "FileNotFoundError",
     "evalue": "[Errno 2] No such file or directory: 'Unemployment_Rate_upto_11_2020.csv'",
     "output_type": "error",
     "traceback": [
      "\u001b[1;31m---------------------------------------------------------------------------\u001b[0m",
      "\u001b[1;31mFileNotFoundError\u001b[0m                         Traceback (most recent call last)",
      "Cell \u001b[1;32mIn[2], line 1\u001b[0m\n\u001b[1;32m----> 1\u001b[0m df\u001b[38;5;241m=\u001b[39mpd\u001b[38;5;241m.\u001b[39mread_csv(\u001b[38;5;124m\"\u001b[39m\u001b[38;5;124mUnemployment_Rate_upto_11_2020.csv\u001b[39m\u001b[38;5;124m\"\u001b[39m)\n",
      "File \u001b[1;32m~\\anaconda3\\Lib\\site-packages\\pandas\\io\\parsers\\readers.py:912\u001b[0m, in \u001b[0;36mread_csv\u001b[1;34m(filepath_or_buffer, sep, delimiter, header, names, index_col, usecols, dtype, engine, converters, true_values, false_values, skipinitialspace, skiprows, skipfooter, nrows, na_values, keep_default_na, na_filter, verbose, skip_blank_lines, parse_dates, infer_datetime_format, keep_date_col, date_parser, date_format, dayfirst, cache_dates, iterator, chunksize, compression, thousands, decimal, lineterminator, quotechar, quoting, doublequote, escapechar, comment, encoding, encoding_errors, dialect, on_bad_lines, delim_whitespace, low_memory, memory_map, float_precision, storage_options, dtype_backend)\u001b[0m\n\u001b[0;32m    899\u001b[0m kwds_defaults \u001b[38;5;241m=\u001b[39m _refine_defaults_read(\n\u001b[0;32m    900\u001b[0m     dialect,\n\u001b[0;32m    901\u001b[0m     delimiter,\n\u001b[1;32m   (...)\u001b[0m\n\u001b[0;32m    908\u001b[0m     dtype_backend\u001b[38;5;241m=\u001b[39mdtype_backend,\n\u001b[0;32m    909\u001b[0m )\n\u001b[0;32m    910\u001b[0m kwds\u001b[38;5;241m.\u001b[39mupdate(kwds_defaults)\n\u001b[1;32m--> 912\u001b[0m \u001b[38;5;28;01mreturn\u001b[39;00m _read(filepath_or_buffer, kwds)\n",
      "File \u001b[1;32m~\\anaconda3\\Lib\\site-packages\\pandas\\io\\parsers\\readers.py:577\u001b[0m, in \u001b[0;36m_read\u001b[1;34m(filepath_or_buffer, kwds)\u001b[0m\n\u001b[0;32m    574\u001b[0m _validate_names(kwds\u001b[38;5;241m.\u001b[39mget(\u001b[38;5;124m\"\u001b[39m\u001b[38;5;124mnames\u001b[39m\u001b[38;5;124m\"\u001b[39m, \u001b[38;5;28;01mNone\u001b[39;00m))\n\u001b[0;32m    576\u001b[0m \u001b[38;5;66;03m# Create the parser.\u001b[39;00m\n\u001b[1;32m--> 577\u001b[0m parser \u001b[38;5;241m=\u001b[39m TextFileReader(filepath_or_buffer, \u001b[38;5;241m*\u001b[39m\u001b[38;5;241m*\u001b[39mkwds)\n\u001b[0;32m    579\u001b[0m \u001b[38;5;28;01mif\u001b[39;00m chunksize \u001b[38;5;129;01mor\u001b[39;00m iterator:\n\u001b[0;32m    580\u001b[0m     \u001b[38;5;28;01mreturn\u001b[39;00m parser\n",
      "File \u001b[1;32m~\\anaconda3\\Lib\\site-packages\\pandas\\io\\parsers\\readers.py:1407\u001b[0m, in \u001b[0;36mTextFileReader.__init__\u001b[1;34m(self, f, engine, **kwds)\u001b[0m\n\u001b[0;32m   1404\u001b[0m     \u001b[38;5;28mself\u001b[39m\u001b[38;5;241m.\u001b[39moptions[\u001b[38;5;124m\"\u001b[39m\u001b[38;5;124mhas_index_names\u001b[39m\u001b[38;5;124m\"\u001b[39m] \u001b[38;5;241m=\u001b[39m kwds[\u001b[38;5;124m\"\u001b[39m\u001b[38;5;124mhas_index_names\u001b[39m\u001b[38;5;124m\"\u001b[39m]\n\u001b[0;32m   1406\u001b[0m \u001b[38;5;28mself\u001b[39m\u001b[38;5;241m.\u001b[39mhandles: IOHandles \u001b[38;5;241m|\u001b[39m \u001b[38;5;28;01mNone\u001b[39;00m \u001b[38;5;241m=\u001b[39m \u001b[38;5;28;01mNone\u001b[39;00m\n\u001b[1;32m-> 1407\u001b[0m \u001b[38;5;28mself\u001b[39m\u001b[38;5;241m.\u001b[39m_engine \u001b[38;5;241m=\u001b[39m \u001b[38;5;28mself\u001b[39m\u001b[38;5;241m.\u001b[39m_make_engine(f, \u001b[38;5;28mself\u001b[39m\u001b[38;5;241m.\u001b[39mengine)\n",
      "File \u001b[1;32m~\\anaconda3\\Lib\\site-packages\\pandas\\io\\parsers\\readers.py:1661\u001b[0m, in \u001b[0;36mTextFileReader._make_engine\u001b[1;34m(self, f, engine)\u001b[0m\n\u001b[0;32m   1659\u001b[0m     \u001b[38;5;28;01mif\u001b[39;00m \u001b[38;5;124m\"\u001b[39m\u001b[38;5;124mb\u001b[39m\u001b[38;5;124m\"\u001b[39m \u001b[38;5;129;01mnot\u001b[39;00m \u001b[38;5;129;01min\u001b[39;00m mode:\n\u001b[0;32m   1660\u001b[0m         mode \u001b[38;5;241m+\u001b[39m\u001b[38;5;241m=\u001b[39m \u001b[38;5;124m\"\u001b[39m\u001b[38;5;124mb\u001b[39m\u001b[38;5;124m\"\u001b[39m\n\u001b[1;32m-> 1661\u001b[0m \u001b[38;5;28mself\u001b[39m\u001b[38;5;241m.\u001b[39mhandles \u001b[38;5;241m=\u001b[39m get_handle(\n\u001b[0;32m   1662\u001b[0m     f,\n\u001b[0;32m   1663\u001b[0m     mode,\n\u001b[0;32m   1664\u001b[0m     encoding\u001b[38;5;241m=\u001b[39m\u001b[38;5;28mself\u001b[39m\u001b[38;5;241m.\u001b[39moptions\u001b[38;5;241m.\u001b[39mget(\u001b[38;5;124m\"\u001b[39m\u001b[38;5;124mencoding\u001b[39m\u001b[38;5;124m\"\u001b[39m, \u001b[38;5;28;01mNone\u001b[39;00m),\n\u001b[0;32m   1665\u001b[0m     compression\u001b[38;5;241m=\u001b[39m\u001b[38;5;28mself\u001b[39m\u001b[38;5;241m.\u001b[39moptions\u001b[38;5;241m.\u001b[39mget(\u001b[38;5;124m\"\u001b[39m\u001b[38;5;124mcompression\u001b[39m\u001b[38;5;124m\"\u001b[39m, \u001b[38;5;28;01mNone\u001b[39;00m),\n\u001b[0;32m   1666\u001b[0m     memory_map\u001b[38;5;241m=\u001b[39m\u001b[38;5;28mself\u001b[39m\u001b[38;5;241m.\u001b[39moptions\u001b[38;5;241m.\u001b[39mget(\u001b[38;5;124m\"\u001b[39m\u001b[38;5;124mmemory_map\u001b[39m\u001b[38;5;124m\"\u001b[39m, \u001b[38;5;28;01mFalse\u001b[39;00m),\n\u001b[0;32m   1667\u001b[0m     is_text\u001b[38;5;241m=\u001b[39mis_text,\n\u001b[0;32m   1668\u001b[0m     errors\u001b[38;5;241m=\u001b[39m\u001b[38;5;28mself\u001b[39m\u001b[38;5;241m.\u001b[39moptions\u001b[38;5;241m.\u001b[39mget(\u001b[38;5;124m\"\u001b[39m\u001b[38;5;124mencoding_errors\u001b[39m\u001b[38;5;124m\"\u001b[39m, \u001b[38;5;124m\"\u001b[39m\u001b[38;5;124mstrict\u001b[39m\u001b[38;5;124m\"\u001b[39m),\n\u001b[0;32m   1669\u001b[0m     storage_options\u001b[38;5;241m=\u001b[39m\u001b[38;5;28mself\u001b[39m\u001b[38;5;241m.\u001b[39moptions\u001b[38;5;241m.\u001b[39mget(\u001b[38;5;124m\"\u001b[39m\u001b[38;5;124mstorage_options\u001b[39m\u001b[38;5;124m\"\u001b[39m, \u001b[38;5;28;01mNone\u001b[39;00m),\n\u001b[0;32m   1670\u001b[0m )\n\u001b[0;32m   1671\u001b[0m \u001b[38;5;28;01massert\u001b[39;00m \u001b[38;5;28mself\u001b[39m\u001b[38;5;241m.\u001b[39mhandles \u001b[38;5;129;01mis\u001b[39;00m \u001b[38;5;129;01mnot\u001b[39;00m \u001b[38;5;28;01mNone\u001b[39;00m\n\u001b[0;32m   1672\u001b[0m f \u001b[38;5;241m=\u001b[39m \u001b[38;5;28mself\u001b[39m\u001b[38;5;241m.\u001b[39mhandles\u001b[38;5;241m.\u001b[39mhandle\n",
      "File \u001b[1;32m~\\anaconda3\\Lib\\site-packages\\pandas\\io\\common.py:859\u001b[0m, in \u001b[0;36mget_handle\u001b[1;34m(path_or_buf, mode, encoding, compression, memory_map, is_text, errors, storage_options)\u001b[0m\n\u001b[0;32m    854\u001b[0m \u001b[38;5;28;01melif\u001b[39;00m \u001b[38;5;28misinstance\u001b[39m(handle, \u001b[38;5;28mstr\u001b[39m):\n\u001b[0;32m    855\u001b[0m     \u001b[38;5;66;03m# Check whether the filename is to be opened in binary mode.\u001b[39;00m\n\u001b[0;32m    856\u001b[0m     \u001b[38;5;66;03m# Binary mode does not support 'encoding' and 'newline'.\u001b[39;00m\n\u001b[0;32m    857\u001b[0m     \u001b[38;5;28;01mif\u001b[39;00m ioargs\u001b[38;5;241m.\u001b[39mencoding \u001b[38;5;129;01mand\u001b[39;00m \u001b[38;5;124m\"\u001b[39m\u001b[38;5;124mb\u001b[39m\u001b[38;5;124m\"\u001b[39m \u001b[38;5;129;01mnot\u001b[39;00m \u001b[38;5;129;01min\u001b[39;00m ioargs\u001b[38;5;241m.\u001b[39mmode:\n\u001b[0;32m    858\u001b[0m         \u001b[38;5;66;03m# Encoding\u001b[39;00m\n\u001b[1;32m--> 859\u001b[0m         handle \u001b[38;5;241m=\u001b[39m \u001b[38;5;28mopen\u001b[39m(\n\u001b[0;32m    860\u001b[0m             handle,\n\u001b[0;32m    861\u001b[0m             ioargs\u001b[38;5;241m.\u001b[39mmode,\n\u001b[0;32m    862\u001b[0m             encoding\u001b[38;5;241m=\u001b[39mioargs\u001b[38;5;241m.\u001b[39mencoding,\n\u001b[0;32m    863\u001b[0m             errors\u001b[38;5;241m=\u001b[39merrors,\n\u001b[0;32m    864\u001b[0m             newline\u001b[38;5;241m=\u001b[39m\u001b[38;5;124m\"\u001b[39m\u001b[38;5;124m\"\u001b[39m,\n\u001b[0;32m    865\u001b[0m         )\n\u001b[0;32m    866\u001b[0m     \u001b[38;5;28;01melse\u001b[39;00m:\n\u001b[0;32m    867\u001b[0m         \u001b[38;5;66;03m# Binary mode\u001b[39;00m\n\u001b[0;32m    868\u001b[0m         handle \u001b[38;5;241m=\u001b[39m \u001b[38;5;28mopen\u001b[39m(handle, ioargs\u001b[38;5;241m.\u001b[39mmode)\n",
      "\u001b[1;31mFileNotFoundError\u001b[0m: [Errno 2] No such file or directory: 'Unemployment_Rate_upto_11_2020.csv'"
     ]
    }
   ],
   "source": [
    "df=pd.read_csv(\"Unemployment_Rate_upto_11_2020.csv\")"
   ]
  },
  {
   "cell_type": "code",
   "execution_count": null,
   "id": "fda7c3aa",
   "metadata": {
    "ExecuteTime": {
     "end_time": "2025-02-14T16:59:23.042185Z",
     "start_time": "2025-02-14T16:59:23.042185Z"
    }
   },
   "outputs": [],
   "source": [
    "df"
   ]
  },
  {
   "cell_type": "code",
   "execution_count": null,
   "id": "baf1faeb",
   "metadata": {
    "ExecuteTime": {
     "end_time": "2025-02-14T16:59:23.043178Z",
     "start_time": "2025-02-14T16:59:23.043178Z"
    }
   },
   "outputs": [],
   "source": [
    "df.info()"
   ]
  },
  {
   "cell_type": "code",
   "execution_count": null,
   "id": "dd4ed6ae",
   "metadata": {
    "ExecuteTime": {
     "end_time": "2025-02-14T16:59:23.044468Z",
     "start_time": "2025-02-14T16:59:23.044468Z"
    }
   },
   "outputs": [],
   "source": [
    "df.describe()"
   ]
  },
  {
   "cell_type": "code",
   "execution_count": null,
   "id": "09bd5595",
   "metadata": {
    "ExecuteTime": {
     "end_time": "2025-02-14T16:59:23.045829Z",
     "start_time": "2025-02-14T16:59:23.045829Z"
    }
   },
   "outputs": [],
   "source": [
    "df.columns"
   ]
  },
  {
   "cell_type": "code",
   "execution_count": null,
   "id": "6585270c",
   "metadata": {
    "ExecuteTime": {
     "end_time": "2025-02-14T16:59:23.046582Z",
     "start_time": "2025-02-14T16:59:23.046582Z"
    }
   },
   "outputs": [],
   "source": [
    "df.columns=df.columns.str.strip()"
   ]
  },
  {
   "cell_type": "code",
   "execution_count": null,
   "id": "23597977",
   "metadata": {
    "ExecuteTime": {
     "end_time": "2025-02-14T16:59:23.047830Z",
     "start_time": "2025-02-14T16:59:23.047830Z"
    }
   },
   "outputs": [],
   "source": [
    "df.columns=df.columns.str.lower()"
   ]
  },
  {
   "cell_type": "code",
   "execution_count": null,
   "id": "74bf4684",
   "metadata": {
    "ExecuteTime": {
     "end_time": "2025-02-14T16:59:23.049253Z",
     "start_time": "2025-02-14T16:59:23.049253Z"
    }
   },
   "outputs": [],
   "source": [
    "df.columns"
   ]
  },
  {
   "cell_type": "code",
   "execution_count": null,
   "id": "68d47198",
   "metadata": {
    "ExecuteTime": {
     "end_time": "2025-02-14T16:59:23.050668Z",
     "start_time": "2025-02-14T16:59:23.050668Z"
    }
   },
   "outputs": [],
   "source": [
    "df['date']=pd.to_datetime(df['date'])"
   ]
  },
  {
   "cell_type": "code",
   "execution_count": null,
   "id": "9054d070",
   "metadata": {
    "ExecuteTime": {
     "end_time": "2025-02-14T16:59:23.051708Z",
     "start_time": "2025-02-14T16:59:23.051708Z"
    }
   },
   "outputs": [],
   "source": [
    "df['date'].dtype"
   ]
  },
  {
   "cell_type": "code",
   "execution_count": null,
   "id": "fa708356",
   "metadata": {
    "ExecuteTime": {
     "end_time": "2025-02-14T16:59:23.052950Z",
     "start_time": "2025-02-14T16:59:23.052950Z"
    }
   },
   "outputs": [],
   "source": [
    "df['month']=df['date'].dt.month"
   ]
  },
  {
   "cell_type": "code",
   "execution_count": null,
   "id": "5a65bb29",
   "metadata": {
    "ExecuteTime": {
     "end_time": "2025-02-14T16:59:23.054320Z",
     "start_time": "2025-02-14T16:59:23.054320Z"
    }
   },
   "outputs": [],
   "source": [
    "df"
   ]
  },
  {
   "cell_type": "code",
   "execution_count": null,
   "id": "e70ffbea",
   "metadata": {
    "ExecuteTime": {
     "end_time": "2025-02-14T16:59:23.055328Z",
     "start_time": "2025-02-14T16:59:23.055328Z"
    }
   },
   "outputs": [],
   "source": [
    "df['year']=df['date'].dt.year\n",
    "df['day']=df['date'].dt.day"
   ]
  },
  {
   "cell_type": "code",
   "execution_count": null,
   "id": "72b6d914",
   "metadata": {
    "ExecuteTime": {
     "end_time": "2025-02-14T16:59:23.056957Z",
     "start_time": "2025-02-14T16:59:23.056957Z"
    }
   },
   "outputs": [],
   "source": [
    "df"
   ]
  },
  {
   "cell_type": "code",
   "execution_count": null,
   "id": "93db5ba5",
   "metadata": {
    "ExecuteTime": {
     "end_time": "2025-02-14T16:59:23.058043Z",
     "start_time": "2025-02-14T16:59:23.058043Z"
    }
   },
   "outputs": [],
   "source": [
    "df['frequency'].value_counts()"
   ]
  },
  {
   "cell_type": "code",
   "execution_count": null,
   "id": "b557a6cd",
   "metadata": {
    "ExecuteTime": {
     "end_time": "2025-02-14T16:59:23.059309Z",
     "start_time": "2025-02-14T16:59:23.059277Z"
    }
   },
   "outputs": [],
   "source": [
    "df.drop(columns=['frequency'],inplace=True)"
   ]
  },
  {
   "cell_type": "code",
   "execution_count": null,
   "id": "288a082f",
   "metadata": {
    "ExecuteTime": {
     "end_time": "2025-02-14T16:59:23.060972Z",
     "start_time": "2025-02-14T16:59:23.060972Z"
    }
   },
   "outputs": [],
   "source": [
    "df"
   ]
  },
  {
   "cell_type": "code",
   "execution_count": null,
   "id": "918a0306",
   "metadata": {
    "ExecuteTime": {
     "end_time": "2025-02-14T16:59:23.062108Z",
     "start_time": "2025-02-14T16:59:23.062108Z"
    }
   },
   "outputs": [],
   "source": [
    "df['year'].value_counts()"
   ]
  },
  {
   "cell_type": "code",
   "execution_count": null,
   "id": "7191e754",
   "metadata": {
    "ExecuteTime": {
     "end_time": "2025-02-14T16:59:23.063070Z",
     "start_time": "2025-02-14T16:59:23.063070Z"
    }
   },
   "outputs": [],
   "source": [
    "df['month'].value_counts()"
   ]
  },
  {
   "cell_type": "code",
   "execution_count": null,
   "id": "de6ba30c",
   "metadata": {
    "ExecuteTime": {
     "end_time": "2025-02-14T16:59:23.064485Z",
     "start_time": "2025-02-14T16:59:23.064485Z"
    }
   },
   "outputs": [],
   "source": [
    "df['region'].value_counts()"
   ]
  },
  {
   "cell_type": "code",
   "execution_count": null,
   "id": "5c137772",
   "metadata": {
    "ExecuteTime": {
     "end_time": "2025-02-14T16:59:23.065816Z",
     "start_time": "2025-02-14T16:59:23.065816Z"
    }
   },
   "outputs": [],
   "source": [
    "sns.scatterplot(y=df['estimated unemployment rate (%)'],x=df['month'])"
   ]
  },
  {
   "cell_type": "code",
   "execution_count": null,
   "id": "68b75cf9",
   "metadata": {
    "ExecuteTime": {
     "end_time": "2025-02-14T16:59:23.066977Z",
     "start_time": "2025-02-14T16:59:23.066977Z"
    }
   },
   "outputs": [],
   "source": [
    "df['month'].dtype"
   ]
  },
  {
   "cell_type": "code",
   "execution_count": null,
   "id": "714bdeb9",
   "metadata": {
    "ExecuteTime": {
     "end_time": "2025-02-14T16:59:23.068375Z",
     "start_time": "2025-02-14T16:59:23.068375Z"
    }
   },
   "outputs": [],
   "source": [
    "lockdown_df=df[(df['month']==4) | (df['month']==5)]"
   ]
  },
  {
   "cell_type": "code",
   "execution_count": null,
   "id": "218bbc6e",
   "metadata": {
    "ExecuteTime": {
     "end_time": "2025-02-14T16:59:23.069371Z",
     "start_time": "2025-02-14T16:59:23.069371Z"
    }
   },
   "outputs": [],
   "source": [
    "lockdown_df.head()"
   ]
  },
  {
   "cell_type": "code",
   "execution_count": null,
   "id": "5fd44698",
   "metadata": {
    "ExecuteTime": {
     "end_time": "2025-02-14T16:59:23.070027Z",
     "start_time": "2025-02-14T16:59:23.070027Z"
    }
   },
   "outputs": [],
   "source": [
    "open_df=df[~(df['month']==4) | (df['month']==5)]"
   ]
  },
  {
   "cell_type": "code",
   "execution_count": null,
   "id": "7a65c971",
   "metadata": {
    "ExecuteTime": {
     "end_time": "2025-02-14T16:59:23.072165Z",
     "start_time": "2025-02-14T16:59:23.072165Z"
    }
   },
   "outputs": [],
   "source": [
    "plt.figure(figsize=(10, 10))\n",
    "\n",
    "plt.subplot(2, 2, 1)\n",
    "sns.barplot(x=lockdown_df['region'], y=lockdown_df['estimated unemployment rate (%)'])\n",
    "plt.xticks(rotation=90)\n",
    "plt.title('Lockdown Estimated Unemployment Rate')\n",
    "\n",
    "plt.subplot(2, 2, 2)\n",
    "sns.barplot(x=open_df['region'], y=open_df['estimated unemployment rate (%)'])\n",
    "plt.xticks(rotation=90)\n",
    "plt.title('Open Estimated Unemployment Rate')\n",
    "\n",
    "plt.tight_layout()\n",
    "\n",
    "plt.show()"
   ]
  },
  {
   "cell_type": "code",
   "execution_count": null,
   "id": "71a74888",
   "metadata": {
    "ExecuteTime": {
     "end_time": "2025-02-14T16:59:23.073055Z",
     "start_time": "2025-02-14T16:59:23.073055Z"
    }
   },
   "outputs": [],
   "source": [
    "df.columns"
   ]
  },
  {
   "cell_type": "code",
   "execution_count": null,
   "id": "4b9f76ca",
   "metadata": {
    "ExecuteTime": {
     "end_time": "2025-02-14T16:59:23.074256Z",
     "start_time": "2025-02-14T16:59:23.074256Z"
    }
   },
   "outputs": [],
   "source": [
    "plt.figure(figsize=(6,6))\n",
    "sns.histplot(x='estimated employed',hue='region.1',data=df)\n",
    "plt.show()"
   ]
  },
  {
   "cell_type": "code",
   "execution_count": null,
   "id": "f00cec8b",
   "metadata": {
    "ExecuteTime": {
     "end_time": "2025-02-14T16:59:23.075895Z",
     "start_time": "2025-02-14T16:59:23.075895Z"
    }
   },
   "outputs": [],
   "source": [
    "import plotly.express as px\n",
    "from plotly.offline import init_notebook_mode, iplot\n",
    "init_notebook_mode(connected=True)"
   ]
  },
  {
   "cell_type": "code",
   "execution_count": null,
   "id": "9865fb0b",
   "metadata": {
    "ExecuteTime": {
     "end_time": "2025-02-14T16:59:23.077639Z",
     "start_time": "2025-02-14T16:59:23.077639Z"
    }
   },
   "outputs": [],
   "source": [
    "px.box(open_df, x='region', y='estimated unemployment rate (%)', color='region', title='Unemployment rate per States', template='seaborn')"
   ]
  },
  {
   "cell_type": "code",
   "execution_count": null,
   "id": "2cf74436",
   "metadata": {
    "ExecuteTime": {
     "end_time": "2025-02-14T16:59:23.078681Z",
     "start_time": "2025-02-14T16:59:23.078681Z"
    }
   },
   "outputs": [],
   "source": [
    "px.box(lockdown_df, x='region', y='estimated unemployment rate (%)', color='region', title='Unemployment rate per States', template='seaborn')"
   ]
  },
  {
   "cell_type": "code",
   "execution_count": null,
   "id": "721a4d99",
   "metadata": {
    "ExecuteTime": {
     "end_time": "2025-02-14T16:59:23.079674Z",
     "start_time": "2025-02-14T16:59:23.079674Z"
    }
   },
   "outputs": [],
   "source": [
    "import plotly.graph_objects as go\n",
    "from plotly.subplots import make_subplots\n",
    "\n",
    "\n",
    "fig = make_subplots(rows=1, cols=2, subplot_titles=(\"Open Period\", \"Lockdown Period\"))\n",
    "\n",
    "fig.add_trace(\n",
    "    go.Box(\n",
    "        x=open_df['region'],\n",
    "        y=open_df['estimated unemployment rate (%)'],\n",
    "        marker=dict(color='blue'),\n",
    "        name=\"Open Period\",\n",
    "    ),\n",
    "    row=1, col=1\n",
    ")\n",
    "\n",
    "fig.add_trace(\n",
    "    go.Box(\n",
    "        x=lockdown_df['region'],\n",
    "        y=lockdown_df['estimated unemployment rate (%)'],\n",
    "        marker=dict(color='green'),\n",
    "        name=\"Lockdown Period\",\n",
    "    ),\n",
    "    row=1, col=2\n",
    ")\n",
    "\n",
    "fig.update_layout(\n",
    "    title=\"Comparison of Unemployment Rates: Open vs Lockdown Periods\",\n",
    "    xaxis_title=\"Region\",\n",
    "    yaxis_title=\"Unemployment Rate (%)\",\n",
    "    showlegend=True,\n",
    "    template=\"seaborn\"\n",
    ")\n",
    "\n",
    "fig.show()\n"
   ]
  },
  {
   "cell_type": "code",
   "execution_count": null,
   "id": "e30700f1",
   "metadata": {
    "ExecuteTime": {
     "end_time": "2025-02-14T16:59:23.081237Z",
     "start_time": "2025-02-14T16:59:23.081237Z"
    }
   },
   "outputs": [],
   "source": [
    "open_df.groupby('region')['estimated unemployment rate (%)'].mean().sort_values(ascending=False)"
   ]
  },
  {
   "cell_type": "code",
   "execution_count": null,
   "id": "a414d303",
   "metadata": {
    "ExecuteTime": {
     "end_time": "2025-02-14T16:59:23.082258Z",
     "start_time": "2025-02-14T16:59:23.082258Z"
    }
   },
   "outputs": [],
   "source": [
    "lockdown_df.groupby('region')['estimated unemployment rate (%)'].mean().sort_values(ascending=False)"
   ]
  },
  {
   "cell_type": "code",
   "execution_count": null,
   "id": "29dd1b80",
   "metadata": {
    "ExecuteTime": {
     "end_time": "2025-02-14T16:59:23.083700Z",
     "start_time": "2025-02-14T16:59:23.083700Z"
    }
   },
   "outputs": [],
   "source": [
    "(lockdown_df.groupby('region')['estimated unemployment rate (%)'].mean()-open_df.groupby('region')['estimated unemployment rate (%)'].mean()).sort_values(ascending=False)"
   ]
  },
  {
   "cell_type": "markdown",
   "id": "85666e67",
   "metadata": {},
   "source": [
    "# top 10 affected region are given below\n",
    "Puducherry        55.512222\n",
    "Jharkhand         36.682222\n",
    "Tamil Nadu        33.490556\n",
    "Bihar             29.847778\n",
    "Karnataka         19.700556\n",
    "Odisha            13.045000\n",
    "Uttar Pradesh     12.549444\n",
    "Maharashtra       11.636667\n",
    "Andhra Pradesh    11.622222\n",
    "Madhya Pradesh    10.927778"
   ]
  },
  {
   "cell_type": "code",
   "execution_count": null,
   "id": "9be548bc",
   "metadata": {},
   "outputs": [],
   "source": []
  }
 ],
 "metadata": {
  "kernelspec": {
   "display_name": "Python 3 (ipykernel)",
   "language": "python",
   "name": "python3"
  },
  "language_info": {
   "codemirror_mode": {
    "name": "ipython",
    "version": 3
   },
   "file_extension": ".py",
   "mimetype": "text/x-python",
   "name": "python",
   "nbconvert_exporter": "python",
   "pygments_lexer": "ipython3",
   "version": "3.11.5"
  },
  "toc": {
   "base_numbering": 1,
   "nav_menu": {},
   "number_sections": true,
   "sideBar": true,
   "skip_h1_title": false,
   "title_cell": "Table of Contents",
   "title_sidebar": "Contents",
   "toc_cell": false,
   "toc_position": {},
   "toc_section_display": true,
   "toc_window_display": false
  },
  "varInspector": {
   "cols": {
    "lenName": 16,
    "lenType": 16,
    "lenVar": 40
   },
   "kernels_config": {
    "python": {
     "delete_cmd_postfix": "",
     "delete_cmd_prefix": "del ",
     "library": "var_list.py",
     "varRefreshCmd": "print(var_dic_list())"
    },
    "r": {
     "delete_cmd_postfix": ") ",
     "delete_cmd_prefix": "rm(",
     "library": "var_list.r",
     "varRefreshCmd": "cat(var_dic_list()) "
    }
   },
   "types_to_exclude": [
    "module",
    "function",
    "builtin_function_or_method",
    "instance",
    "_Feature"
   ],
   "window_display": false
  }
 },
 "nbformat": 4,
 "nbformat_minor": 5
}
